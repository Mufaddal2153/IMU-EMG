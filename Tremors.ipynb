{
 "cells": [
  {
   "cell_type": "code",
   "execution_count": 1,
   "metadata": {},
   "outputs": [],
   "source": [
    "import pandas as pd\n",
    "import matplotlib.pyplot as plt\n",
    "import seaborn as sns\n",
    "import numpy as np\n",
    "from time import perf_counter_ns, perf_counter"
   ]
  },
  {
   "cell_type": "code",
   "execution_count": 2,
   "metadata": {},
   "outputs": [
    {
     "data": {
      "text/html": [
       "<div>\n",
       "<style scoped>\n",
       "    .dataframe tbody tr th:only-of-type {\n",
       "        vertical-align: middle;\n",
       "    }\n",
       "\n",
       "    .dataframe tbody tr th {\n",
       "        vertical-align: top;\n",
       "    }\n",
       "\n",
       "    .dataframe thead th {\n",
       "        text-align: right;\n",
       "    }\n",
       "</style>\n",
       "<table border=\"1\" class=\"dataframe\">\n",
       "  <thead>\n",
       "    <tr style=\"text-align: right;\">\n",
       "      <th></th>\n",
       "      <th>a</th>\n",
       "      <th>b</th>\n",
       "      <th>c</th>\n",
       "      <th>y</th>\n",
       "    </tr>\n",
       "  </thead>\n",
       "  <tbody>\n",
       "    <tr>\n",
       "      <th>0</th>\n",
       "      <td>-0.02</td>\n",
       "      <td>0.05</td>\n",
       "      <td>0.15</td>\n",
       "      <td>low severity</td>\n",
       "    </tr>\n",
       "    <tr>\n",
       "      <th>1</th>\n",
       "      <td>-0.02</td>\n",
       "      <td>0.05</td>\n",
       "      <td>0.15</td>\n",
       "      <td>low severity</td>\n",
       "    </tr>\n",
       "    <tr>\n",
       "      <th>2</th>\n",
       "      <td>-0.02</td>\n",
       "      <td>0.05</td>\n",
       "      <td>0.14</td>\n",
       "      <td>low severity</td>\n",
       "    </tr>\n",
       "    <tr>\n",
       "      <th>3</th>\n",
       "      <td>-0.03</td>\n",
       "      <td>0.04</td>\n",
       "      <td>0.13</td>\n",
       "      <td>low severity</td>\n",
       "    </tr>\n",
       "    <tr>\n",
       "      <th>4</th>\n",
       "      <td>-0.03</td>\n",
       "      <td>0.04</td>\n",
       "      <td>0.12</td>\n",
       "      <td>low severity</td>\n",
       "    </tr>\n",
       "    <tr>\n",
       "      <th>...</th>\n",
       "      <td>...</td>\n",
       "      <td>...</td>\n",
       "      <td>...</td>\n",
       "      <td>...</td>\n",
       "    </tr>\n",
       "    <tr>\n",
       "      <th>6205</th>\n",
       "      <td>20.00</td>\n",
       "      <td>195.00</td>\n",
       "      <td>1815.00</td>\n",
       "      <td>high severity</td>\n",
       "    </tr>\n",
       "    <tr>\n",
       "      <th>6206</th>\n",
       "      <td>1.27</td>\n",
       "      <td>-10.21</td>\n",
       "      <td>2.02</td>\n",
       "      <td>high severity</td>\n",
       "    </tr>\n",
       "    <tr>\n",
       "      <th>6207</th>\n",
       "      <td>-75.00</td>\n",
       "      <td>-137.00</td>\n",
       "      <td>2027.00</td>\n",
       "      <td>high severity</td>\n",
       "    </tr>\n",
       "    <tr>\n",
       "      <th>6208</th>\n",
       "      <td>1.26</td>\n",
       "      <td>-9.39</td>\n",
       "      <td>1.64</td>\n",
       "      <td>high severity</td>\n",
       "    </tr>\n",
       "    <tr>\n",
       "      <th>6209</th>\n",
       "      <td>-241.00</td>\n",
       "      <td>-238.00</td>\n",
       "      <td>2556.00</td>\n",
       "      <td>high severity</td>\n",
       "    </tr>\n",
       "  </tbody>\n",
       "</table>\n",
       "<p>6210 rows × 4 columns</p>\n",
       "</div>"
      ],
      "text/plain": [
       "           a       b        c              y\n",
       "0      -0.02    0.05     0.15   low severity\n",
       "1      -0.02    0.05     0.15   low severity\n",
       "2      -0.02    0.05     0.14   low severity\n",
       "3      -0.03    0.04     0.13   low severity\n",
       "4      -0.03    0.04     0.12   low severity\n",
       "...      ...     ...      ...            ...\n",
       "6205   20.00  195.00  1815.00  high severity\n",
       "6206    1.27  -10.21     2.02  high severity\n",
       "6207  -75.00 -137.00  2027.00  high severity\n",
       "6208    1.26   -9.39     1.64  high severity\n",
       "6209 -241.00 -238.00  2556.00  high severity\n",
       "\n",
       "[6210 rows x 4 columns]"
      ]
     },
     "execution_count": 2,
     "metadata": {},
     "output_type": "execute_result"
    }
   ],
   "source": [
    "data = pd.read_excel(\"combined-dataset.xlsx\")\n",
    "data"
   ]
  },
  {
   "cell_type": "markdown",
   "metadata": {},
   "source": [
    "## Doing One Hot Encoding \n",
    "### 0 -> low severity\n",
    "### 1 -> High severity"
   ]
  },
  {
   "cell_type": "code",
   "execution_count": 3,
   "metadata": {},
   "outputs": [],
   "source": [
    "data.y.replace(to_replace=['low severity','high severity'],value=[0,1],inplace=True)"
   ]
  },
  {
   "cell_type": "code",
   "execution_count": 4,
   "metadata": {},
   "outputs": [
    {
     "data": {
      "text/html": [
       "<div>\n",
       "<style scoped>\n",
       "    .dataframe tbody tr th:only-of-type {\n",
       "        vertical-align: middle;\n",
       "    }\n",
       "\n",
       "    .dataframe tbody tr th {\n",
       "        vertical-align: top;\n",
       "    }\n",
       "\n",
       "    .dataframe thead th {\n",
       "        text-align: right;\n",
       "    }\n",
       "</style>\n",
       "<table border=\"1\" class=\"dataframe\">\n",
       "  <thead>\n",
       "    <tr style=\"text-align: right;\">\n",
       "      <th></th>\n",
       "      <th>a</th>\n",
       "      <th>b</th>\n",
       "      <th>c</th>\n",
       "      <th>y</th>\n",
       "    </tr>\n",
       "  </thead>\n",
       "  <tbody>\n",
       "    <tr>\n",
       "      <th>0</th>\n",
       "      <td>-0.02</td>\n",
       "      <td>0.05</td>\n",
       "      <td>0.15</td>\n",
       "      <td>0</td>\n",
       "    </tr>\n",
       "    <tr>\n",
       "      <th>1</th>\n",
       "      <td>-0.02</td>\n",
       "      <td>0.05</td>\n",
       "      <td>0.15</td>\n",
       "      <td>0</td>\n",
       "    </tr>\n",
       "    <tr>\n",
       "      <th>2</th>\n",
       "      <td>-0.02</td>\n",
       "      <td>0.05</td>\n",
       "      <td>0.14</td>\n",
       "      <td>0</td>\n",
       "    </tr>\n",
       "    <tr>\n",
       "      <th>3</th>\n",
       "      <td>-0.03</td>\n",
       "      <td>0.04</td>\n",
       "      <td>0.13</td>\n",
       "      <td>0</td>\n",
       "    </tr>\n",
       "    <tr>\n",
       "      <th>4</th>\n",
       "      <td>-0.03</td>\n",
       "      <td>0.04</td>\n",
       "      <td>0.12</td>\n",
       "      <td>0</td>\n",
       "    </tr>\n",
       "    <tr>\n",
       "      <th>...</th>\n",
       "      <td>...</td>\n",
       "      <td>...</td>\n",
       "      <td>...</td>\n",
       "      <td>...</td>\n",
       "    </tr>\n",
       "    <tr>\n",
       "      <th>6205</th>\n",
       "      <td>20.00</td>\n",
       "      <td>195.00</td>\n",
       "      <td>1815.00</td>\n",
       "      <td>1</td>\n",
       "    </tr>\n",
       "    <tr>\n",
       "      <th>6206</th>\n",
       "      <td>1.27</td>\n",
       "      <td>-10.21</td>\n",
       "      <td>2.02</td>\n",
       "      <td>1</td>\n",
       "    </tr>\n",
       "    <tr>\n",
       "      <th>6207</th>\n",
       "      <td>-75.00</td>\n",
       "      <td>-137.00</td>\n",
       "      <td>2027.00</td>\n",
       "      <td>1</td>\n",
       "    </tr>\n",
       "    <tr>\n",
       "      <th>6208</th>\n",
       "      <td>1.26</td>\n",
       "      <td>-9.39</td>\n",
       "      <td>1.64</td>\n",
       "      <td>1</td>\n",
       "    </tr>\n",
       "    <tr>\n",
       "      <th>6209</th>\n",
       "      <td>-241.00</td>\n",
       "      <td>-238.00</td>\n",
       "      <td>2556.00</td>\n",
       "      <td>1</td>\n",
       "    </tr>\n",
       "  </tbody>\n",
       "</table>\n",
       "<p>6210 rows × 4 columns</p>\n",
       "</div>"
      ],
      "text/plain": [
       "           a       b        c  y\n",
       "0      -0.02    0.05     0.15  0\n",
       "1      -0.02    0.05     0.15  0\n",
       "2      -0.02    0.05     0.14  0\n",
       "3      -0.03    0.04     0.13  0\n",
       "4      -0.03    0.04     0.12  0\n",
       "...      ...     ...      ... ..\n",
       "6205   20.00  195.00  1815.00  1\n",
       "6206    1.27  -10.21     2.02  1\n",
       "6207  -75.00 -137.00  2027.00  1\n",
       "6208    1.26   -9.39     1.64  1\n",
       "6209 -241.00 -238.00  2556.00  1\n",
       "\n",
       "[6210 rows x 4 columns]"
      ]
     },
     "execution_count": 4,
     "metadata": {},
     "output_type": "execute_result"
    }
   ],
   "source": [
    "data"
   ]
  },
  {
   "cell_type": "code",
   "execution_count": 5,
   "metadata": {},
   "outputs": [],
   "source": [
    "temp = data\n"
   ]
  },
  {
   "cell_type": "code",
   "execution_count": 6,
   "metadata": {},
   "outputs": [
    {
     "data": {
      "text/html": [
       "<div>\n",
       "<style scoped>\n",
       "    .dataframe tbody tr th:only-of-type {\n",
       "        vertical-align: middle;\n",
       "    }\n",
       "\n",
       "    .dataframe tbody tr th {\n",
       "        vertical-align: top;\n",
       "    }\n",
       "\n",
       "    .dataframe thead th {\n",
       "        text-align: right;\n",
       "    }\n",
       "</style>\n",
       "<table border=\"1\" class=\"dataframe\">\n",
       "  <thead>\n",
       "    <tr style=\"text-align: right;\">\n",
       "      <th></th>\n",
       "      <th>a</th>\n",
       "      <th>b</th>\n",
       "      <th>c</th>\n",
       "    </tr>\n",
       "  </thead>\n",
       "  <tbody>\n",
       "    <tr>\n",
       "      <th>0</th>\n",
       "      <td>-0.02</td>\n",
       "      <td>0.05</td>\n",
       "      <td>0.15</td>\n",
       "    </tr>\n",
       "    <tr>\n",
       "      <th>1</th>\n",
       "      <td>-0.02</td>\n",
       "      <td>0.05</td>\n",
       "      <td>0.15</td>\n",
       "    </tr>\n",
       "    <tr>\n",
       "      <th>2</th>\n",
       "      <td>-0.02</td>\n",
       "      <td>0.05</td>\n",
       "      <td>0.14</td>\n",
       "    </tr>\n",
       "    <tr>\n",
       "      <th>3</th>\n",
       "      <td>-0.03</td>\n",
       "      <td>0.04</td>\n",
       "      <td>0.13</td>\n",
       "    </tr>\n",
       "    <tr>\n",
       "      <th>4</th>\n",
       "      <td>-0.03</td>\n",
       "      <td>0.04</td>\n",
       "      <td>0.12</td>\n",
       "    </tr>\n",
       "    <tr>\n",
       "      <th>...</th>\n",
       "      <td>...</td>\n",
       "      <td>...</td>\n",
       "      <td>...</td>\n",
       "    </tr>\n",
       "    <tr>\n",
       "      <th>6205</th>\n",
       "      <td>20.00</td>\n",
       "      <td>195.00</td>\n",
       "      <td>1815.00</td>\n",
       "    </tr>\n",
       "    <tr>\n",
       "      <th>6206</th>\n",
       "      <td>1.27</td>\n",
       "      <td>-10.21</td>\n",
       "      <td>2.02</td>\n",
       "    </tr>\n",
       "    <tr>\n",
       "      <th>6207</th>\n",
       "      <td>-75.00</td>\n",
       "      <td>-137.00</td>\n",
       "      <td>2027.00</td>\n",
       "    </tr>\n",
       "    <tr>\n",
       "      <th>6208</th>\n",
       "      <td>1.26</td>\n",
       "      <td>-9.39</td>\n",
       "      <td>1.64</td>\n",
       "    </tr>\n",
       "    <tr>\n",
       "      <th>6209</th>\n",
       "      <td>-241.00</td>\n",
       "      <td>-238.00</td>\n",
       "      <td>2556.00</td>\n",
       "    </tr>\n",
       "  </tbody>\n",
       "</table>\n",
       "<p>6210 rows × 3 columns</p>\n",
       "</div>"
      ],
      "text/plain": [
       "           a       b        c\n",
       "0      -0.02    0.05     0.15\n",
       "1      -0.02    0.05     0.15\n",
       "2      -0.02    0.05     0.14\n",
       "3      -0.03    0.04     0.13\n",
       "4      -0.03    0.04     0.12\n",
       "...      ...     ...      ...\n",
       "6205   20.00  195.00  1815.00\n",
       "6206    1.27  -10.21     2.02\n",
       "6207  -75.00 -137.00  2027.00\n",
       "6208    1.26   -9.39     1.64\n",
       "6209 -241.00 -238.00  2556.00\n",
       "\n",
       "[6210 rows x 3 columns]"
      ]
     },
     "execution_count": 6,
     "metadata": {},
     "output_type": "execute_result"
    }
   ],
   "source": [
    "X = temp.drop(\"y\",axis=1)\n",
    "X"
   ]
  },
  {
   "cell_type": "code",
   "execution_count": 7,
   "metadata": {},
   "outputs": [
    {
     "data": {
      "text/plain": [
       "0       0\n",
       "1       0\n",
       "2       0\n",
       "3       0\n",
       "4       0\n",
       "       ..\n",
       "6205    1\n",
       "6206    1\n",
       "6207    1\n",
       "6208    1\n",
       "6209    1\n",
       "Name: y, Length: 6210, dtype: int64"
      ]
     },
     "execution_count": 7,
     "metadata": {},
     "output_type": "execute_result"
    }
   ],
   "source": [
    "y = data[\"y\"]\n",
    "y"
   ]
  },
  {
   "cell_type": "code",
   "execution_count": 12,
   "metadata": {},
   "outputs": [],
   "source": [
    "from sklearn.model_selection import train_test_split\n",
    "X_train, X_test, y_train, y_test = train_test_split(X, y, test_size=0.4)"
   ]
  },
  {
   "cell_type": "code",
   "execution_count": 13,
   "metadata": {},
   "outputs": [
    {
     "name": "stdout",
     "output_type": "stream",
     "text": [
      "(3726, 3)\n",
      "(2484, 3)\n",
      "(3726,)\n",
      "(2484,)\n"
     ]
    }
   ],
   "source": [
    "print(X_train.shape)\n",
    "print(X_test.shape)\n",
    "print(y_train.shape)\n",
    "print(y_test.shape)"
   ]
  },
  {
   "cell_type": "markdown",
   "metadata": {},
   "source": [
    "# KNN"
   ]
  },
  {
   "cell_type": "code",
   "execution_count": 14,
   "metadata": {},
   "outputs": [
    {
     "name": "stdout",
     "output_type": "stream",
     "text": [
      "Time of knn model in nano seconds: 157047900\n",
      "Time of knn model in seconds: 0.1570479\n"
     ]
    }
   ],
   "source": [
    "from sklearn.neighbors import KNeighborsClassifier\n",
    "from sklearn import metrics\n",
    "from sklearn.metrics import accuracy_score\n",
    "from sklearn.metrics import confusion_matrix\n",
    "\n",
    "k_range = 2\n",
    "knn = KNeighborsClassifier(n_neighbors=k_range)\n",
    "knn.fit(X_train,y_train)\n",
    "start  = perf_counter_ns()\n",
    "y_pred = knn.predict(X_test)\n",
    "end = perf_counter_ns()\n",
    "knn_time_ns = end - start\n",
    "knn_time_sec = (end - start)/1000000000\n",
    "print(f\"Time of knn model in nano seconds: {knn_time_ns}\")\n",
    "print(f\"Time of knn model in seconds: {knn_time_sec}\")"
   ]
  },
  {
   "cell_type": "markdown",
   "metadata": {},
   "source": [
    "### Prediction from KNN Model"
   ]
  },
  {
   "cell_type": "code",
   "execution_count": 15,
   "metadata": {},
   "outputs": [
    {
     "name": "stdout",
     "output_type": "stream",
     "text": [
      "The accuracy of the KNN Model is 99.8792270531401\n"
     ]
    }
   ],
   "source": [
    "acc=accuracy_score(y_test,y_pred)*100\n",
    "print(f\"The accuracy of the KNN Model is {acc}\")"
   ]
  },
  {
   "cell_type": "code",
   "execution_count": 16,
   "metadata": {},
   "outputs": [
    {
     "data": {
      "image/png": "[encoded data removed]",
      "text/plain": [
       "<Figure size 432x288 with 2 Axes>"
      ]
     },
     "metadata": {},
     "output_type": "display_data"
    }
   ],
   "source": [
    "sns.set(font_scale=1.5)\n",
    "conf = confusion_matrix(y_test,y_pred)\n",
    "plt.title(\"Confusion matrix of KNN plotted on heatmap\")\n",
    "sns.heatmap(conf,annot=True)\n",
    "plt.show()"
   ]
  },
  {
   "cell_type": "markdown",
   "metadata": {},
   "source": [
    "# Decision Tree"
   ]
  },
  {
   "cell_type": "code",
   "execution_count": 17,
   "metadata": {},
   "outputs": [],
   "source": [
    "from sklearn.tree import DecisionTreeClassifier\n",
    "from sklearn.metrics import accuracy_score\n",
    "from sklearn.metrics import confusion_matrix\n",
    "from sklearn import tree"
   ]
  },
  {
   "cell_type": "code",
   "execution_count": 18,
   "metadata": {},
   "outputs": [
    {
     "name": "stdout",
     "output_type": "stream",
     "text": [
      "Time of Decision Tree in nano seconds: 3965100\n",
      "Time of Decision Tree in seconds: 0.0039651\n"
     ]
    }
   ],
   "source": [
    "dt = DecisionTreeClassifier()\n",
    "dt.fit(X_train,y_train)\n",
    "start = perf_counter_ns()\n",
    "y_pred = dt.predict(X_test)\n",
    "end = perf_counter_ns()\n",
    "DT_time_ns = end - start\n",
    "DT_time_sec = (end - start)/1000000000\n",
    "print(f\"Time of Decision Tree in nano seconds: {DT_time_ns}\")\n",
    "print(f\"Time of Decision Tree in seconds: {DT_time_sec}\")"
   ]
  },
  {
   "cell_type": "markdown",
   "metadata": {},
   "source": [
    "### Prediction from Decision Tree Model"
   ]
  },
  {
   "cell_type": "code",
   "execution_count": 19,
   "metadata": {},
   "outputs": [
    {
     "name": "stdout",
     "output_type": "stream",
     "text": [
      "The accuracy of the Decision Tree Model is 99.9194847020934\n"
     ]
    }
   ],
   "source": [
    "acc=accuracy_score(y_test,y_pred)*100\n",
    "print(f\"The accuracy of the Decision Tree Model is {acc}\")"
   ]
  },
  {
   "cell_type": "code",
   "execution_count": 20,
   "metadata": {},
   "outputs": [
    {
     "data": {
      "image/png": "[encoded data removed]",
      "text/plain": [
       "<Figure size 432x288 with 2 Axes>"
      ]
     },
     "metadata": {},
     "output_type": "display_data"
    }
   ],
   "source": [
    "sns.set(font_scale=1.5)\n",
    "conf = confusion_matrix(y_test,y_pred)\n",
    "plt.title(\"Confusion matrix of Decision Tree plotted on heatmap\")\n",
    "sns.heatmap(conf,annot=True)\n",
    "plt.show()"
   ]
  },
  {
   "cell_type": "markdown",
   "metadata": {},
   "source": [
    "# Random Forest"
   ]
  },
  {
   "cell_type": "code",
   "execution_count": 21,
   "metadata": {},
   "outputs": [
    {
     "name": "stdout",
     "output_type": "stream",
     "text": [
      "Time of Random Forest in nano seconds: 18989600\n",
      "Time of Random Forest in seconds: 0.0189896\n"
     ]
    }
   ],
   "source": [
    "from sklearn.ensemble import RandomForestClassifier\n",
    "clf=RandomForestClassifier(n_estimators=30)\n",
    "clf.fit(X_train,y_train)\n",
    "start = perf_counter_ns()\n",
    "y_pred = clf.predict(X_test)\n",
    "end = perf_counter_ns()\n",
    "RF_time_ns = end - start\n",
    "RF_time_sec = (end - start)/1000000000\n",
    "print(f\"Time of Random Forest in nano seconds: {RF_time_ns}\")\n",
    "print(f\"Time of Random Forest in seconds: {RF_time_sec}\")"
   ]
  },
  {
   "cell_type": "markdown",
   "metadata": {},
   "source": [
    "### Prediction from Random Forest Model"
   ]
  },
  {
   "cell_type": "code",
   "execution_count": 22,
   "metadata": {},
   "outputs": [
    {
     "name": "stdout",
     "output_type": "stream",
     "text": [
      "The accuracy of the Random Forest Model is 99.8792270531401\n"
     ]
    }
   ],
   "source": [
    "acc=accuracy_score(y_test,y_pred)*100\n",
    "print(f\"The accuracy of the Random Forest Model is {acc}\")"
   ]
  },
  {
   "cell_type": "code",
   "execution_count": 23,
   "metadata": {},
   "outputs": [
    {
     "data": {
      "image/png": "[encoded data removed]",
      "text/plain": [
       "<Figure size 432x288 with 2 Axes>"
      ]
     },
     "metadata": {},
     "output_type": "display_data"
    }
   ],
   "source": [
    "sns.set(font_scale=1.5)\n",
    "conf = confusion_matrix(y_test,y_pred)\n",
    "plt.title(\"Confusion matrix of Random Forest plotted on heatmap\")\n",
    "sns.heatmap(conf,annot=True)\n",
    "plt.show()"
   ]
  },
  {
   "cell_type": "markdown",
   "metadata": {},
   "source": [
    "# XG Boost"
   ]
  },
  {
   "cell_type": "code",
   "execution_count": 24,
   "metadata": {},
   "outputs": [],
   "source": [
    "import xgboost as xgb \n",
    "data_dmatrix = xgb.DMatrix(data=X,label=y)"
   ]
  },
  {
   "cell_type": "code",
   "execution_count": 25,
   "metadata": {},
   "outputs": [
    {
     "name": "stdout",
     "output_type": "stream",
     "text": [
      "[12:55:19] WARNING: C:/Users/Administrator/workspace/xgboost-win64_release_1.5.0/src/learner.cc:1115: Starting in XGBoost 1.3.0, the default evaluation metric used with the objective 'binary:logistic' was changed from 'error' to 'logloss'. Explicitly set eval_metric if you'd like to restore the old behavior.\n",
      "Time of XG Boost in nano seconds: 43594644856.41196\n",
      "Time of XG Boost in seconds: 43.59464485641195\n"
     ]
    },
    {
     "name": "stderr",
     "output_type": "stream",
     "text": [
      "C:\\Users\\mufad\\anaconda3\\lib\\site-packages\\xgboost\\sklearn.py:1224: UserWarning: The use of label encoder in XGBClassifier is deprecated and will be removed in a future release. To remove this warning, do the following: 1) Pass option use_label_encoder=False when constructing XGBClassifier object; and 2) Encode your labels (y) as integers starting with 0, i.e. 0, 1, 2, ..., [num_class - 1].\n",
      "  warnings.warn(label_encoder_deprecation_msg, UserWarning)\n"
     ]
    }
   ],
   "source": [
    "xg_class = xgb.XGBClassifier(objective='binary:logistic', colsample_bytree = 0.3, learning_rate = 0.1, max_depth = 5, alpha = 10, n_estimators=10)\n",
    "xg_class.fit(X_train, y_train)\n",
    "start = perf_counter()\n",
    "y_pred = xg_class.predict(X_test)\n",
    "end = perf_counter_ns()\n",
    "XG_time_ns = end - start\n",
    "XG_time_sec = (end - start)/1000000000\n",
    "print(f\"Time of XG Boost in nano seconds: {XG_time_ns}\")\n",
    "print(f\"Time of XG Boost in seconds: {XG_time_sec}\")"
   ]
  },
  {
   "cell_type": "markdown",
   "metadata": {},
   "source": [
    "### Prediction from XG Boost Model"
   ]
  },
  {
   "cell_type": "code",
   "execution_count": 26,
   "metadata": {},
   "outputs": [
    {
     "name": "stdout",
     "output_type": "stream",
     "text": [
      "The accuracy of the XGBoost Model is 99.11433172302738\n"
     ]
    }
   ],
   "source": [
    "acc=accuracy_score(y_test,y_pred)*100\n",
    "print(f\"The accuracy of the XGBoost Model is {acc}\")"
   ]
  },
  {
   "cell_type": "code",
   "execution_count": 27,
   "metadata": {},
   "outputs": [
    {
     "data": {
      "image/png": "[encoded data removed]",
      "text/plain": [
       "<Figure size 432x288 with 2 Axes>"
      ]
     },
     "metadata": {},
     "output_type": "display_data"
    }
   ],
   "source": [
    "sns.set(font_scale=1.5)\n",
    "conf = confusion_matrix(y_test,y_pred)\n",
    "plt.title(\"Confusion matrix of XG Boost plotted on heatmap\")\n",
    "sns.heatmap(conf,annot=True)\n",
    "plt.show()"
   ]
  },
  {
   "cell_type": "code",
   "execution_count": 32,
   "metadata": {},
   "outputs": [
    {
     "data": {
      "text/html": [
       "<div>\n",
       "<style scoped>\n",
       "    .dataframe tbody tr th:only-of-type {\n",
       "        vertical-align: middle;\n",
       "    }\n",
       "\n",
       "    .dataframe tbody tr th {\n",
       "        vertical-align: top;\n",
       "    }\n",
       "\n",
       "    .dataframe thead th {\n",
       "        text-align: right;\n",
       "    }\n",
       "</style>\n",
       "<table border=\"1\" class=\"dataframe\">\n",
       "  <thead>\n",
       "    <tr style=\"text-align: right;\">\n",
       "      <th></th>\n",
       "      <th>Model</th>\n",
       "      <th>Time in ns</th>\n",
       "      <th>Time in seconds</th>\n",
       "    </tr>\n",
       "  </thead>\n",
       "  <tbody>\n",
       "    <tr>\n",
       "      <th>0</th>\n",
       "      <td>KNN</td>\n",
       "      <td>1.817216e+08</td>\n",
       "      <td>0.181722</td>\n",
       "    </tr>\n",
       "    <tr>\n",
       "      <th>1</th>\n",
       "      <td>Random Forest</td>\n",
       "      <td>1.899550e+07</td>\n",
       "      <td>0.018995</td>\n",
       "    </tr>\n",
       "    <tr>\n",
       "      <th>2</th>\n",
       "      <td>Decision Tree</td>\n",
       "      <td>4.510400e+06</td>\n",
       "      <td>0.004510</td>\n",
       "    </tr>\n",
       "    <tr>\n",
       "      <th>3</th>\n",
       "      <td>XG Boost</td>\n",
       "      <td>6.289032e+10</td>\n",
       "      <td>62.890324</td>\n",
       "    </tr>\n",
       "  </tbody>\n",
       "</table>\n",
       "</div>"
      ],
      "text/plain": [
       "           Model    Time in ns  Time in seconds\n",
       "0            KNN  1.817216e+08         0.181722\n",
       "1  Random Forest  1.899550e+07         0.018995\n",
       "2  Decision Tree  4.510400e+06         0.004510\n",
       "3       XG Boost  6.289032e+10        62.890324"
      ]
     },
     "execution_count": 32,
     "metadata": {},
     "output_type": "execute_result"
    }
   ],
   "source": [
    "temp = {'Model':['KNN', 'Random Forest', 'Decision Tree', 'XG Boost'],\n",
    "        'Time in ns':[knn_time_ns, RF_time_ns, DT_time_ns, XG_time_ns],\n",
    "        'Time in seconds':[knn_time_sec, RF_time_sec, DT_time_sec, XG_time_sec]}\n",
    "df = pd.DataFrame(temp)\n",
    "df"
   ]
  },
  {
   "cell_type": "markdown",
   "metadata": {},
   "source": [
    "## ANN"
   ]
  },
  {
   "cell_type": "code",
   "execution_count": 28,
   "metadata": {},
   "outputs": [],
   "source": [
    "import tensorflow as tf\n",
    "from tensorflow import keras\n",
    "from keras.models import Sequential\n",
    "from keras.layers import Dense\n",
    "optimizer = keras.optimizers.Adam()"
   ]
  },
  {
   "cell_type": "code",
   "execution_count": 29,
   "metadata": {},
   "outputs": [],
   "source": [
    "ann_model = Sequential([Dense(12, input_dim=3, activation='relu'),\n",
    "                   Dense(8, activation='relu'),\n",
    "                   Dense(1, activation='sigmoid')])"
   ]
  },
  {
   "cell_type": "code",
   "execution_count": 30,
   "metadata": {},
   "outputs": [],
   "source": [
    "\n",
    "ann_model.compile(\n",
    "    optimizer = optimizer,\n",
    "    loss = 'binary_crossentropy',\n",
    "    metrics = ['accuracy']\n",
    ")"
   ]
  },
  {
   "cell_type": "code",
   "execution_count": 31,
   "metadata": {},
   "outputs": [
    {
     "data": {
      "text/plain": [
       "(3726, 3)"
      ]
     },
     "execution_count": 31,
     "metadata": {},
     "output_type": "execute_result"
    }
   ],
   "source": [
    "X_train.shape"
   ]
  },
  {
   "cell_type": "code",
   "execution_count": 32,
   "metadata": {},
   "outputs": [],
   "source": [
    "#X_train = np.reshape([X_train], (X_train.shape[0], X_train.shape[1],1))"
   ]
  },
  {
   "cell_type": "code",
   "execution_count": 33,
   "metadata": {},
   "outputs": [
    {
     "name": "stdout",
     "output_type": "stream",
     "text": [
      "Epoch 1/50\n",
      "117/117 [==============================] - 1s 2ms/step - loss: 41.4935 - accuracy: 0.3567\n",
      "Epoch 2/50\n",
      "117/117 [==============================] - 0s 2ms/step - loss: 1.4364 - accuracy: 0.7126\n",
      "Epoch 3/50\n",
      "117/117 [==============================] - 0s 2ms/step - loss: 0.7756 - accuracy: 0.7340\n",
      "Epoch 4/50\n",
      "117/117 [==============================] - 0s 2ms/step - loss: 0.5627 - accuracy: 0.7448\n",
      "Epoch 5/50\n",
      "117/117 [==============================] - 0s 2ms/step - loss: 0.4804 - accuracy: 0.7485\n",
      "Epoch 6/50\n",
      "117/117 [==============================] - 0s 2ms/step - loss: 0.4353 - accuracy: 0.7523\n",
      "Epoch 7/50\n",
      "117/117 [==============================] - 0s 2ms/step - loss: 0.4018 - accuracy: 0.7593\n",
      "Epoch 8/50\n",
      "117/117 [==============================] - 0s 2ms/step - loss: 0.3758 - accuracy: 0.8194\n",
      "Epoch 9/50\n",
      "117/117 [==============================] - 0s 2ms/step - loss: 0.3546 - accuracy: 0.8921\n",
      "Epoch 10/50\n",
      "117/117 [==============================] - 0s 2ms/step - loss: 0.3353 - accuracy: 0.9125\n",
      "Epoch 11/50\n",
      "117/117 [==============================] - 0s 2ms/step - loss: 0.3181 - accuracy: 0.9163\n",
      "Epoch 12/50\n",
      "117/117 [==============================] - 0s 2ms/step - loss: 0.3015 - accuracy: 0.9281\n",
      "Epoch 13/50\n",
      "117/117 [==============================] - 0s 2ms/step - loss: 0.2857 - accuracy: 0.9469\n",
      "Epoch 14/50\n",
      "117/117 [==============================] - 0s 2ms/step - loss: 0.2703 - accuracy: 0.9691\n",
      "Epoch 15/50\n",
      "117/117 [==============================] - 0s 2ms/step - loss: 0.2555 - accuracy: 0.9742\n",
      "Epoch 16/50\n",
      "117/117 [==============================] - 0s 2ms/step - loss: 0.2413 - accuracy: 0.9785\n",
      "Epoch 17/50\n",
      "117/117 [==============================] - 0s 2ms/step - loss: 0.2274 - accuracy: 0.9842\n",
      "Epoch 18/50\n",
      "117/117 [==============================] - 0s 2ms/step - loss: 0.2140 - accuracy: 0.9885\n",
      "Epoch 19/50\n",
      "117/117 [==============================] - 0s 2ms/step - loss: 0.2013 - accuracy: 0.9879\n",
      "Epoch 20/50\n",
      "117/117 [==============================] - 0s 2ms/step - loss: 0.1891 - accuracy: 0.9844\n",
      "Epoch 21/50\n",
      "117/117 [==============================] - 0s 2ms/step - loss: 0.1771 - accuracy: 0.9842\n",
      "Epoch 22/50\n",
      "117/117 [==============================] - 0s 2ms/step - loss: 0.1660 - accuracy: 0.9834\n",
      "Epoch 23/50\n",
      "117/117 [==============================] - 0s 2ms/step - loss: 0.1556 - accuracy: 0.9826\n",
      "Epoch 24/50\n",
      "117/117 [==============================] - 0s 2ms/step - loss: 0.1457 - accuracy: 0.9831\n",
      "Epoch 25/50\n",
      "117/117 [==============================] - 0s 2ms/step - loss: 0.1364 - accuracy: 0.9826\n",
      "Epoch 26/50\n",
      "117/117 [==============================] - 0s 2ms/step - loss: 0.1277 - accuracy: 0.9828\n",
      "Epoch 27/50\n",
      "117/117 [==============================] - 0s 2ms/step - loss: 0.1198 - accuracy: 0.9820\n",
      "Epoch 28/50\n",
      "117/117 [==============================] - 0s 2ms/step - loss: 0.1120 - accuracy: 0.9836\n",
      "Epoch 29/50\n",
      "117/117 [==============================] - 0s 2ms/step - loss: 0.1049 - accuracy: 0.9828\n",
      "Epoch 30/50\n",
      "117/117 [==============================] - 0s 2ms/step - loss: 0.0983 - accuracy: 0.9826\n",
      "Epoch 31/50\n",
      "117/117 [==============================] - 0s 2ms/step - loss: 0.0920 - accuracy: 0.9831\n",
      "Epoch 32/50\n",
      "117/117 [==============================] - 0s 2ms/step - loss: 0.0862 - accuracy: 0.9828\n",
      "Epoch 33/50\n",
      "117/117 [==============================] - 0s 2ms/step - loss: 0.0807 - accuracy: 0.9847\n",
      "Epoch 34/50\n",
      "117/117 [==============================] - 0s 2ms/step - loss: 0.0758 - accuracy: 0.9844\n",
      "Epoch 35/50\n",
      "117/117 [==============================] - 0s 2ms/step - loss: 0.0713 - accuracy: 0.9844\n",
      "Epoch 36/50\n",
      "117/117 [==============================] - 0s 2ms/step - loss: 0.0672 - accuracy: 0.9847\n",
      "Epoch 37/50\n",
      "117/117 [==============================] - 0s 2ms/step - loss: 0.0634 - accuracy: 0.9850\n",
      "Epoch 38/50\n",
      "117/117 [==============================] - 0s 2ms/step - loss: 0.0598 - accuracy: 0.9863\n",
      "Epoch 39/50\n",
      "117/117 [==============================] - 0s 2ms/step - loss: 0.0566 - accuracy: 0.9866\n",
      "Epoch 40/50\n",
      "117/117 [==============================] - 0s 2ms/step - loss: 0.0536 - accuracy: 0.9868\n",
      "Epoch 41/50\n",
      "117/117 [==============================] - 0s 2ms/step - loss: 0.0508 - accuracy: 0.9871\n",
      "Epoch 42/50\n",
      "117/117 [==============================] - 0s 2ms/step - loss: 0.0481 - accuracy: 0.9877\n",
      "Epoch 43/50\n",
      "117/117 [==============================] - 0s 2ms/step - loss: 0.0456 - accuracy: 0.9877\n",
      "Epoch 44/50\n",
      "117/117 [==============================] - 0s 2ms/step - loss: 0.0433 - accuracy: 0.9901\n",
      "Epoch 45/50\n",
      "117/117 [==============================] - 0s 2ms/step - loss: 0.0413 - accuracy: 0.9903\n",
      "Epoch 46/50\n",
      "117/117 [==============================] - 0s 2ms/step - loss: 0.0392 - accuracy: 0.9903\n",
      "Epoch 47/50\n",
      "117/117 [==============================] - 0s 2ms/step - loss: 0.0374 - accuracy: 0.9914\n",
      "Epoch 48/50\n",
      "117/117 [==============================] - 0s 2ms/step - loss: 0.0357 - accuracy: 0.9909\n",
      "Epoch 49/50\n",
      "117/117 [==============================] - 0s 2ms/step - loss: 0.0342 - accuracy: 0.9922\n",
      "Epoch 50/50\n",
      "117/117 [==============================] - 0s 2ms/step - loss: 0.0327 - accuracy: 0.9925\n"
     ]
    }
   ],
   "source": [
    "start = perf_counter_ns()\n",
    "ann_model.fit(X_train,y_train,epochs=50)\n",
    "end = perf_counter_ns()\n",
    "ANN_time_ns = end - start\n",
    "ANN_time_sec = (end - start)/1000000000"
   ]
  },
  {
   "cell_type": "code",
   "execution_count": 35,
   "metadata": {},
   "outputs": [
    {
     "name": "stdout",
     "output_type": "stream",
     "text": [
      "14.2329467\n"
     ]
    }
   ],
   "source": [
    "print(ANN_time_sec)"
   ]
  },
  {
   "cell_type": "code",
   "execution_count": 36,
   "metadata": {},
   "outputs": [
    {
     "name": "stdout",
     "output_type": "stream",
     "text": [
      "78/78 [==============================] - 0s 2ms/step - loss: 0.0404 - accuracy: 0.9867\n",
      "Accuracy: 98.67149591445923\n",
      "Loss: 4.036838188767433\n"
     ]
    }
   ],
   "source": [
    "loss, acc = ann_model.evaluate(X_test, y_test)\n",
    "print(f\"Accuracy: {acc*100}\")\n",
    "print(f\"Loss: {loss*100}\")"
   ]
  },
  {
   "cell_type": "code",
   "execution_count": 37,
   "metadata": {},
   "outputs": [
    {
     "data": {
      "text/html": [
       "<div>\n",
       "<style scoped>\n",
       "    .dataframe tbody tr th:only-of-type {\n",
       "        vertical-align: middle;\n",
       "    }\n",
       "\n",
       "    .dataframe tbody tr th {\n",
       "        vertical-align: top;\n",
       "    }\n",
       "\n",
       "    .dataframe thead th {\n",
       "        text-align: right;\n",
       "    }\n",
       "</style>\n",
       "<table border=\"1\" class=\"dataframe\">\n",
       "  <thead>\n",
       "    <tr style=\"text-align: right;\">\n",
       "      <th></th>\n",
       "      <th>a</th>\n",
       "      <th>b</th>\n",
       "      <th>c</th>\n",
       "    </tr>\n",
       "  </thead>\n",
       "  <tbody>\n",
       "    <tr>\n",
       "      <th>628</th>\n",
       "      <td>0.21</td>\n",
       "      <td>-1.04</td>\n",
       "      <td>-1.01</td>\n",
       "    </tr>\n",
       "    <tr>\n",
       "      <th>1414</th>\n",
       "      <td>0.79</td>\n",
       "      <td>1.99</td>\n",
       "      <td>-18.94</td>\n",
       "    </tr>\n",
       "    <tr>\n",
       "      <th>2986</th>\n",
       "      <td>0.48</td>\n",
       "      <td>-4.26</td>\n",
       "      <td>1.10</td>\n",
       "    </tr>\n",
       "    <tr>\n",
       "      <th>198</th>\n",
       "      <td>-0.03</td>\n",
       "      <td>0.04</td>\n",
       "      <td>0.13</td>\n",
       "    </tr>\n",
       "    <tr>\n",
       "      <th>3339</th>\n",
       "      <td>-62.00</td>\n",
       "      <td>-64.00</td>\n",
       "      <td>757.00</td>\n",
       "    </tr>\n",
       "    <tr>\n",
       "      <th>...</th>\n",
       "      <td>...</td>\n",
       "      <td>...</td>\n",
       "      <td>...</td>\n",
       "    </tr>\n",
       "    <tr>\n",
       "      <th>6152</th>\n",
       "      <td>1.55</td>\n",
       "      <td>-5.60</td>\n",
       "      <td>0.94</td>\n",
       "    </tr>\n",
       "    <tr>\n",
       "      <th>3881</th>\n",
       "      <td>-26.00</td>\n",
       "      <td>838.00</td>\n",
       "      <td>-348.00</td>\n",
       "    </tr>\n",
       "    <tr>\n",
       "      <th>868</th>\n",
       "      <td>0.45</td>\n",
       "      <td>-0.95</td>\n",
       "      <td>-0.90</td>\n",
       "    </tr>\n",
       "    <tr>\n",
       "      <th>4105</th>\n",
       "      <td>-105.00</td>\n",
       "      <td>-73.00</td>\n",
       "      <td>3034.00</td>\n",
       "    </tr>\n",
       "    <tr>\n",
       "      <th>4927</th>\n",
       "      <td>15.00</td>\n",
       "      <td>-76.00</td>\n",
       "      <td>-120.00</td>\n",
       "    </tr>\n",
       "  </tbody>\n",
       "</table>\n",
       "<p>2484 rows × 3 columns</p>\n",
       "</div>"
      ],
      "text/plain": [
       "           a       b        c\n",
       "628     0.21   -1.04    -1.01\n",
       "1414    0.79    1.99   -18.94\n",
       "2986    0.48   -4.26     1.10\n",
       "198    -0.03    0.04     0.13\n",
       "3339  -62.00  -64.00   757.00\n",
       "...      ...     ...      ...\n",
       "6152    1.55   -5.60     0.94\n",
       "3881  -26.00  838.00  -348.00\n",
       "868     0.45   -0.95    -0.90\n",
       "4105 -105.00  -73.00  3034.00\n",
       "4927   15.00  -76.00  -120.00\n",
       "\n",
       "[2484 rows x 3 columns]"
      ]
     },
     "execution_count": 37,
     "metadata": {},
     "output_type": "execute_result"
    }
   ],
   "source": [
    "X_test"
   ]
  },
  {
   "cell_type": "code",
   "execution_count": 38,
   "metadata": {},
   "outputs": [
    {
     "data": {
      "text/plain": [
       "array([[0.02582297],\n",
       "       [0.00777543],\n",
       "       [0.9845989 ],\n",
       "       ...,\n",
       "       [0.0261116 ],\n",
       "       [1.        ],\n",
       "       [0.9905398 ]], dtype=float32)"
      ]
     },
     "execution_count": 38,
     "metadata": {},
     "output_type": "execute_result"
    }
   ],
   "source": [
    "y_pred=ann_model.predict(X_test)\n",
    "y_pred"
   ]
  },
  {
   "cell_type": "code",
   "execution_count": 24,
   "metadata": {},
   "outputs": [],
   "source": []
  },
  {
   "cell_type": "code",
   "execution_count": 40,
   "metadata": {},
   "outputs": [],
   "source": [
    "temp = {'Model':['KNN', 'Random Forest', 'Decision Tree', 'XG Boost','ANN'],\n",
    "        'Time in ns':[knn_time_ns, RF_time_ns, DT_time_ns, XG_time_ns,ANN_time_ns],\n",
    "        'Time in seconds':[knn_time_sec, RF_time_sec, DT_time_sec, XG_time_sec, ANN_time_sec]}\n",
    "df = pd.DataFrame(temp)"
   ]
  },
  {
   "cell_type": "code",
   "execution_count": 41,
   "metadata": {},
   "outputs": [
    {
     "data": {
      "text/html": [
       "<div>\n",
       "<style scoped>\n",
       "    .dataframe tbody tr th:only-of-type {\n",
       "        vertical-align: middle;\n",
       "    }\n",
       "\n",
       "    .dataframe tbody tr th {\n",
       "        vertical-align: top;\n",
       "    }\n",
       "\n",
       "    .dataframe thead th {\n",
       "        text-align: right;\n",
       "    }\n",
       "</style>\n",
       "<table border=\"1\" class=\"dataframe\">\n",
       "  <thead>\n",
       "    <tr style=\"text-align: right;\">\n",
       "      <th></th>\n",
       "      <th>Model</th>\n",
       "      <th>Time in ns</th>\n",
       "      <th>Time in seconds</th>\n",
       "    </tr>\n",
       "  </thead>\n",
       "  <tbody>\n",
       "    <tr>\n",
       "      <th>0</th>\n",
       "      <td>KNN</td>\n",
       "      <td>1.570479e+08</td>\n",
       "      <td>0.157048</td>\n",
       "    </tr>\n",
       "    <tr>\n",
       "      <th>1</th>\n",
       "      <td>Random Forest</td>\n",
       "      <td>1.898960e+07</td>\n",
       "      <td>0.018990</td>\n",
       "    </tr>\n",
       "    <tr>\n",
       "      <th>2</th>\n",
       "      <td>Decision Tree</td>\n",
       "      <td>3.965100e+06</td>\n",
       "      <td>0.003965</td>\n",
       "    </tr>\n",
       "    <tr>\n",
       "      <th>3</th>\n",
       "      <td>XG Boost</td>\n",
       "      <td>4.359464e+10</td>\n",
       "      <td>43.594645</td>\n",
       "    </tr>\n",
       "    <tr>\n",
       "      <th>4</th>\n",
       "      <td>ANN</td>\n",
       "      <td>1.423295e+10</td>\n",
       "      <td>14.232947</td>\n",
       "    </tr>\n",
       "  </tbody>\n",
       "</table>\n",
       "</div>"
      ],
      "text/plain": [
       "           Model    Time in ns  Time in seconds\n",
       "0            KNN  1.570479e+08         0.157048\n",
       "1  Random Forest  1.898960e+07         0.018990\n",
       "2  Decision Tree  3.965100e+06         0.003965\n",
       "3       XG Boost  4.359464e+10        43.594645\n",
       "4            ANN  1.423295e+10        14.232947"
      ]
     },
     "execution_count": 41,
     "metadata": {},
     "output_type": "execute_result"
    }
   ],
   "source": [
    "df"
   ]
  },
  {
   "cell_type": "code",
   "execution_count": 43,
   "metadata": {},
   "outputs": [],
   "source": [
    "df.to_csv(\"Time-taken-by-model.csv\")"
   ]
  },
  {
   "cell_type": "code",
   "execution_count": null,
   "metadata": {},
   "outputs": [],
   "source": []
  }
 ],
 "metadata": {
  "kernelspec": {
   "display_name": "Python 3",
   "language": "python",
   "name": "python3"
  },
  "language_info": {
   "codemirror_mode": {
    "name": "ipython",
    "version": 3
   },
   "file_extension": ".py",
   "mimetype": "text/x-python",
   "name": "python",
   "nbconvert_exporter": "python",
   "pygments_lexer": "ipython3",
   "version": "3.8.5"
  }
 },
 "nbformat": 4,
 "nbformat_minor": 4
}
